{
 "cells": [
  {
   "cell_type": "code",
   "execution_count": 1,
   "id": "9545875a-a777-4bd2-ae01-91d78d6a4979",
   "metadata": {},
   "outputs": [],
   "source": [
    "from wrds2pg import get_modified_str, wrds_to_csv\n",
    "from datetime import datetime, timezone\n",
    "from zoneinfo import ZoneInfo\n",
    "import os\n",
    "import time\n",
    "from pathlib import Path"
   ]
  },
  {
   "cell_type": "code",
   "execution_count": 2,
   "id": "d71bf586-ebb8-4757-adb9-6d1edf5ae7a8",
   "metadata": {},
   "outputs": [],
   "source": [
    "def modified_encode(modified):\n",
    "    date_time_str = modified.split(\"Last modified: \")[1]\n",
    "    mtimestamp = datetime \\\n",
    "                .strptime(date_time_str, \"%m/%d/%Y %H:%M:%S\") \\\n",
    "                .replace(tzinfo=ZoneInfo(\"America/Chicago\")) \\\n",
    "                .astimezone(timezone.utc) \\\n",
    "                .timestamp()\n",
    "    return mtimestamp"
   ]
  },
  {
   "cell_type": "code",
   "execution_count": 3,
   "id": "2d5633d0-b72e-4a1f-ad83-35d3588cb4e7",
   "metadata": {},
   "outputs": [],
   "source": [
    "def modified_decode(modified_time):\n",
    "    utc_dt = datetime.fromtimestamp(modified_time)\n",
    "    last_modified = utc_dt \\\n",
    "                      .astimezone(ZoneInfo(\"America/Chicago\")) \\\n",
    "                      .strftime(\"Last modified: %m/%d/%Y %H:%M:%S\")\n",
    "    return(last_modified)"
   ]
  },
  {
   "cell_type": "code",
   "execution_count": 4,
   "id": "276298da-393a-425f-abce-059afbfdfff2",
   "metadata": {},
   "outputs": [],
   "source": [
    "def get_modified_csv(file_name):\n",
    "    \n",
    "    utc_dt=datetime.fromtimestamp(os.path.getmtime(file_name))\n",
    "    last_modified = utc_dt \\\n",
    "                      .astimezone(ZoneInfo(\"America/Chicago\")) \\\n",
    "                      .strftime(\"Last modified: %m/%d/%Y %H:%M:%S\")\n",
    "    return last_modified"
   ]
  },
  {
   "cell_type": "code",
   "execution_count": 5,
   "id": "1930df9f-2869-4fa1-bb67-0db0f140a45b",
   "metadata": {},
   "outputs": [],
   "source": [
    "def set_modified_csv(file_name, last_modified):\n",
    "    mtimestamp = modified_encode(last_modified)\n",
    "    current_time = time.time()  \n",
    "    os.utime(file_name, times = (current_time, mtimestamp))    \n",
    "    return True"
   ]
  },
  {
   "cell_type": "code",
   "execution_count": 6,
   "id": "03988242-b7d2-4c33-8cb2-6f232c6a147e",
   "metadata": {},
   "outputs": [],
   "source": [
    "def wrds_update_csv(table_name, schema,  \n",
    "                    data_dir=os.getenv(\"CSV_DIR\"),\n",
    "                    host=os.getenv(\"PGHOST\"), dbname=os.getenv(\"PGDATABASE\"), \n",
    "                    engine=None, \n",
    "                    wrds_id=os.getenv(\"WRDS_ID\"), \n",
    "                    force=False, fix_missing=False, fix_cr=False,\n",
    "                    drop=\"\", keep=\"\", obs=\"\", rename=\"\", alt_table_name=None,\n",
    "                    encoding=None, col_types=None,\n",
    "    sas_schema=None, sas_encoding=None):\n",
    "\n",
    "    if not alt_table_name:\n",
    "        alt_table_name = table_name\n",
    "    \n",
    "    if not encoding:\n",
    "        encoding = \"utf-8\"\n",
    "\n",
    "    if not sas_schema:\n",
    "        sas_schema = schema\n",
    "        \n",
    "    schema_dir = Path(data_dir, schema)\n",
    "    \n",
    "    if not os.path.exists(schema_dir):\n",
    "        os.makedirs(schema_dir)\n",
    "    \n",
    "    csv_file = Path(data_dir, schema, alt_table_name).with_suffix('.csv.gz')\n",
    "    modified = get_modified_str(table_name, sas_schema, wrds_id)\n",
    "    \n",
    "    if os.path.exists(csv_file):\n",
    "        csv_modified = get_modified_csv(csv_file)\n",
    "    else:\n",
    "        csv_modified = \"\"\n",
    "    if modified == csv_modified and not force:\n",
    "        print(schema + \".\" + table_name + \" already up to date\")\n",
    "        return False\n",
    "    if force:\n",
    "        print(\"Forcing update based on user request.\")\n",
    "    else:\n",
    "        print(\"Updated %s.%s is available.\" % (schema, table_name))\n",
    "        print(\"Getting from WRDS.\\n\")\n",
    "    wrds_to_csv(table_name=table_name, \n",
    "                schema=schema, \n",
    "                csv_file=csv_file,\n",
    "                wrds_id=wrds_id, \n",
    "                fix_missing=fix_missing, \n",
    "                fix_cr=fix_cr,\n",
    "                drop=drop, keep=keep,\n",
    "                obs=obs, rename=rename,\n",
    "                encoding=encoding,\n",
    "                sas_schema=sas_schema, \n",
    "                sas_encoding=sas_encoding)\n",
    "    set_modified_csv(csv_file, modified)\n",
    "    return True"
   ]
  },
  {
   "cell_type": "code",
   "execution_count": 7,
   "id": "3d217345-8325-4100-b03e-c5cb5c1a95b3",
   "metadata": {},
   "outputs": [],
   "source": [
    "csv_path = \"/Users/iangow/Library/CloudStorage/Dropbox/data\"\n",
    "csv_file = Path(csv_path, \"crsp\", \"dsi.csv.gz\")"
   ]
  },
  {
   "cell_type": "code",
   "execution_count": 8,
   "id": "6bf1b91f-e571-4c9f-bf3b-8c93ef6d8163",
   "metadata": {},
   "outputs": [
    {
     "data": {
      "text/plain": [
       "'Last modified: 01/17/2023 18:28:41'"
      ]
     },
     "execution_count": 8,
     "metadata": {},
     "output_type": "execute_result"
    }
   ],
   "source": [
    "wrong_modified = get_modified_str(\"dsf\", \"crsp\", wrds_id = \"iangow\")\n",
    "set_modified_csv(csv_file, wrong_modified)\n",
    "get_modified_csv(csv_file)"
   ]
  },
  {
   "cell_type": "code",
   "execution_count": 9,
   "id": "d5a7a2c8-bd51-4411-a81b-416007011c20",
   "metadata": {},
   "outputs": [
    {
     "name": "stdout",
     "output_type": "stream",
     "text": [
      "Updated crsp.dsi is available.\n",
      "Getting from WRDS.\n",
      "\n"
     ]
    },
    {
     "data": {
      "text/plain": [
       "'Last modified: 01/17/2023 18:08:48'"
      ]
     },
     "execution_count": 9,
     "metadata": {},
     "output_type": "execute_result"
    }
   ],
   "source": [
    "wrds_update_csv(\"dsi\", \"crsp\", data_dir=csv_path, wrds_id=\"iangow\")\n",
    "get_modified_csv(csv_file)"
   ]
  },
  {
   "cell_type": "code",
   "execution_count": 10,
   "id": "f2fdaac5-19b6-481b-ab6e-802ec5ee65f1",
   "metadata": {},
   "outputs": [
    {
     "name": "stdout",
     "output_type": "stream",
     "text": [
      "crsp.dsi already up to date\n"
     ]
    },
    {
     "data": {
      "text/plain": [
       "False"
      ]
     },
     "execution_count": 10,
     "metadata": {},
     "output_type": "execute_result"
    }
   ],
   "source": [
    "get_modified_str(\"dsi\", \"crsp\", wrds_id = \"iangow\")\n",
    "wrds_update_csv(\"dsi\", \"crsp\", data_dir=csv_path, wrds_id=\"iangow\")"
   ]
  }
 ],
 "metadata": {
  "kernelspec": {
   "display_name": "Python 3 (ipykernel)",
   "language": "python",
   "name": "python3"
  },
  "language_info": {
   "codemirror_mode": {
    "name": "ipython",
    "version": 3
   },
   "file_extension": ".py",
   "mimetype": "text/x-python",
   "name": "python",
   "nbconvert_exporter": "python",
   "pygments_lexer": "ipython3",
   "version": "3.11.3"
  }
 },
 "nbformat": 4,
 "nbformat_minor": 5
}
