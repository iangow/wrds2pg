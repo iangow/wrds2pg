{
 "cells": [
  {
   "cell_type": "code",
   "execution_count": 1,
   "id": "28ee0c25-630e-4c05-8cfa-bca9f320cf1b",
   "metadata": {},
   "outputs": [],
   "source": [
    "from wrds2pg import get_process"
   ]
  },
  {
   "cell_type": "code",
   "execution_count": 2,
   "id": "ebf712dc-6f1e-4599-8197-9e4141d09385",
   "metadata": {},
   "outputs": [],
   "source": [
    "tz = \"America/New_York\"\n",
    "\n",
    "sas_code = f\"\"\"\n",
    "    options nosource nonotes;\n",
    "    options timezone='{tz}';\n",
    "    \n",
    "    data temp;\n",
    "        set audit.feed34_revised_audit_opinions (obs=20 keep=audit_op_key file_accepted);\n",
    "        temp_var = input(file_accepted, YMDDTTM.);\n",
    "        drop file_accepted;\n",
    "        rename temp_var=file_accepted;\n",
    "    run;\n",
    "    \n",
    "    proc datasets lib=work;\n",
    "        modify temp; \n",
    "        attrib file_accepted format=E8601LX.;\n",
    "    run;\n",
    "\n",
    "    proc export data=temp\n",
    "        outfile=stdout \n",
    "        dbms=csv;\n",
    "    run;\n",
    "    \n",
    "    /*\n",
    "    proc contents data=temp;\n",
    "    run;\n",
    "    */\n",
    "\"\"\""
   ]
  },
  {
   "cell_type": "code",
   "execution_count": 3,
   "id": "3b34700b-0f51-4d08-b6c1-acabe79a9ed6",
   "metadata": {},
   "outputs": [],
   "source": [
    "p = get_process(sas_code, wrds_id=\"iangow\")"
   ]
  },
  {
   "cell_type": "code",
   "execution_count": 4,
   "id": "764d5a6c-c7e7-44fa-b03c-f8ffad132a3c",
   "metadata": {},
   "outputs": [
    {
     "data": {
      "text/plain": [
       "['AUDIT_OP_KEY,file_accepted\\n',\n",
       " '66900,2001-03-26T00:00:00-05:00\\n',\n",
       " '78252,2002-03-20T00:00:00-05:00\\n',\n",
       " '3538,2003-03-27T14:55:13-05:00\\n',\n",
       " '39225,2004-04-01T17:14:26-05:00\\n',\n",
       " '84748,2005-03-31T10:34:42-05:00\\n',\n",
       " '102979,2006-03-23T16:17:13-05:00\\n',\n",
       " '120889,2007-03-09T16:12:21-05:00\\n',\n",
       " '148621,2008-03-12T17:12:17-04:00\\n',\n",
       " '171604,2009-03-13T16:47:14-04:00\\n',\n",
       " '192814,2010-03-15T15:14:05-04:00\\n',\n",
       " '156138,2000-08-24T00:00:00-04:00\\n',\n",
       " '74991,2001-08-27T00:00:00-04:00\\n',\n",
       " '45767,2002-08-26T00:00:00-04:00\\n',\n",
       " '17785,2003-08-18T11:31:26-04:00\\n',\n",
       " '51196,2004-07-22T12:57:20-04:00\\n',\n",
       " '90725,2005-07-22T17:06:21-04:00\\n',\n",
       " '109724,2006-07-17T13:42:14-04:00\\n',\n",
       " '132153,2007-07-20T15:44:39-04:00\\n',\n",
       " '159129,2008-07-11T17:20:22-04:00\\n',\n",
       " '179725,2009-07-16T16:14:32-04:00\\n']"
      ]
     },
     "execution_count": 4,
     "metadata": {},
     "output_type": "execute_result"
    }
   ],
   "source": [
    "p.readlines()"
   ]
  }
 ],
 "metadata": {
  "kernelspec": {
   "display_name": "Python 3 (ipykernel)",
   "language": "python",
   "name": "python3"
  },
  "language_info": {
   "codemirror_mode": {
    "name": "ipython",
    "version": 3
   },
   "file_extension": ".py",
   "mimetype": "text/x-python",
   "name": "python",
   "nbconvert_exporter": "python",
   "pygments_lexer": "ipython3",
   "version": "3.11.7"
  }
 },
 "nbformat": 4,
 "nbformat_minor": 5
}
