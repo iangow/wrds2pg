{
 "cells": [
  {
   "cell_type": "code",
   "execution_count": 1,
   "id": "60a3e144-363b-4161-9e0d-fd46c1630a97",
   "metadata": {},
   "outputs": [],
   "source": [
    "from wrds2pg import get_modified_str, proc_contents"
   ]
  },
  {
   "cell_type": "code",
   "execution_count": 2,
   "id": "ca8a8fa6-7cef-4503-a2fd-b9ad5d82e5c3",
   "metadata": {},
   "outputs": [
    {
     "name": "stdout",
     "output_type": "stream",
     "text": [
      "Table crsp.dsfx not found.\n"
     ]
    }
   ],
   "source": [
    "modified = get_modified_str('dsfx', 'crsp')\n",
    "modified"
   ]
  },
  {
   "cell_type": "code",
   "execution_count": 3,
   "id": "1ad109ae-4f7c-4495-819a-79dd4b019258",
   "metadata": {},
   "outputs": [
    {
     "data": {
      "text/plain": [
       "'Last modified: 01/17/2023 18:28:41'"
      ]
     },
     "execution_count": 3,
     "metadata": {},
     "output_type": "execute_result"
    }
   ],
   "source": [
    "modified = get_modified_str('dsf', 'crsp')\n",
    "modified"
   ]
  },
  {
   "cell_type": "code",
   "execution_count": 4,
   "id": "0e27b0e0-3e02-4231-9445-af664cafee07",
   "metadata": {},
   "outputs": [
    {
     "name": "stdout",
     "output_type": "stream",
     "text": [
      "Table crsp.dsfx not found.\n"
     ]
    }
   ],
   "source": [
    "proc_contents('dsfx', 'crsp')"
   ]
  },
  {
   "cell_type": "code",
   "execution_count": 5,
   "id": "64980ba0-9985-4f40-9342-75b09a4365d1",
   "metadata": {},
   "outputs": [
    {
     "data": {
      "text/plain": [
       "['                                 The SAS System                                1\\n',\n",
       " '                                            Monday, January 15, 2024 10:33:00 AM\\n',\n",
       " '\\n',\n",
       " '                             The CONTENTS Procedure\\n',\n",
       " '\\n',\n",
       " 'Data Set Name        CRSP.DSF                    Observations          102905313\\n',\n",
       " 'Member Type          DATA                        Variables             20       \\n',\n",
       " 'Engine               V9                          Indexes               5        \\n',\n",
       " 'Created              01/17/2023 18:17:21         Observation Length    160      \\n',\n",
       " 'Last Modified        01/17/2023 18:28:41         Deleted Observations  0        \\n',\n",
       " 'Protection                                       Compressed            NO       \\n',\n",
       " 'Data Set Type                                    Sorted                YES      \\n',\n",
       " 'Label                Daily Stock - Securities                                   \\n',\n",
       " 'Data Representation  SOLARIS_X86_64,                                            \\n',\n",
       " '                     LINUX_X86_64, ALPHA_TRU64,                                 \\n',\n",
       " '                     LINUX_IA64                                                 \\n',\n",
       " 'Encoding             utf-8  Unicode (UTF-8)                                     \\n',\n",
       " '\\n',\n",
       " '\\n',\n",
       " '                       Engine/Host Dependent Information\\n',\n",
       " '\\n',\n",
       " '      Data Set Page Size          65536                                  \\n',\n",
       " '      Number of Data Set Pages    251604                                 \\n',\n",
       " '      First Data Page             1                                      \\n',\n",
       " '      Max Obs per Page            409                                    \\n',\n",
       " '      Obs in First Data Page      380                                    \\n',\n",
       " '      Index File Page Size        8192                                   \\n',\n",
       " '      Number of Index File Pages  825241                                 \\n',\n",
       " '      Number of Data Set Repairs  0                                      \\n',\n",
       " '      Filename                    /wrds/crsp/sasdata/a_stock/dsf.sas7bdat\\n',\n",
       " '      Release Created             9.0401M7                               \\n',\n",
       " '      Host Created                Linux                                  \\n',\n",
       " '      Inode Number                2465418063                             \\n',\n",
       " '      Access Permission           rw-r-----                              \\n',\n",
       " '      Owner Name                  wrdsadmn                               \\n',\n",
       " '      File Size                   15GB                                   \\n',\n",
       " '      File Size (bytes)           16489185280                            \\n',\n",
       " '\\n',\n",
       " '\\n',\n",
       " '                   Alphabetic List of Variables and Attributes\\n',\n",
       " ' \\n',\n",
       " ' # Variable Type Len Format    Informat Label\\n',\n",
       " '\\n',\n",
       " '14 ASK      Num    8 11.5      11.5     Ask                                     \\n',\n",
       " ' 9 ASKHI    Num    8 12.5      12.5     Ask or High Price                       \\n',\n",
       " '13 BID      Num    8 11.5      11.5     Bid                                     \\n',\n",
       " ' 8 BIDLO    Num    8 12.5      12.5     Bid or Low Price                        \\n',\n",
       " '16 CFACPR   Num    8                    Cumulative Factor to Adjust Prices      \\n',\n",
       " '17 CFACSHR  Num    8                    Cumulative Factor to Adjust Shares/Vol  \\n',\n",
       " ' 1 CUSIP    Char   8 8.        8.       CUSIP Header                            \\n',\n",
       " ' 7 DATE     Num    8 YYMMDDN8.          Date of Observation                     \\n',\n",
       " ' 5 HEXCD    Num    8 2.        2.       Exchange Code Header                    \\n',\n",
       " ' 6 HSICCD   Num    8 8.        8.       Standard Industrial Classification      \\n',\n",
       " '                                        Code Header                             \\n',\n",
       " ' 4 ISSUNO   Num    8 8.        8.       Nasdaq Issue Number                     \\n',\n",
       " '19 NUMTRD   Num    8 6.        6.       NASDAQ Number of Trades                 \\n',\n",
       " '18 OPENPRC  Num    8 12.5      12.5     Open Price                              \\n',\n",
       " ' 3 PERMCO   Num    8 8.        8.       PERMCO                                  \\n',\n",
       " ' 2 PERMNO   Num    8 8.        8.       PERMNO                                  \\n',\n",
       " '10 PRC      Num    8 12.5      12.5     Price or Bid/Ask Average                \\n',\n",
       " '12 RET      Num    8 11.6      11.6     Returns                                 \\n',\n",
       " '20 RETX     Num    8 11.6      11.6     Returns without Dividends               \\n',\n",
       " '15 SHROUT   Num    8                    Shares Outstanding                      \\n',\n",
       " '11 VOL      Num    8 10.       10.      Volume                                  \\n',\n",
       " '\\n',\n",
       " '\\n',\n",
       " '                   Alphabetic List of Indexes and Attributes\\n',\n",
       " ' \\n',\n",
       " '                                              # of\\n',\n",
       " '                                            Unique\\n',\n",
       " '                             #    Index     Values\\n',\n",
       " '\\n',\n",
       " '                             1    CUSIP      36974\\n',\n",
       " '                             2    DATE       25549\\n',\n",
       " '                             3    HSICCD      1441\\n',\n",
       " '                             4    PERMCO     32032\\n',\n",
       " '                             5    PERMNO     36974\\n',\n",
       " '\\n',\n",
       " '\\n',\n",
       " '                                Sort Information\\n',\n",
       " '\\n',\n",
       " '                           Sortedby       PERMNO DATE\\n',\n",
       " '                           Validated      YES        \\n',\n",
       " '                           Character Set  ASCII      \\n',\n",
       " '                           Sort Option    NODUPKEY   \\n']"
      ]
     },
     "execution_count": 5,
     "metadata": {},
     "output_type": "execute_result"
    }
   ],
   "source": [
    "proc_contents('dsf', 'crsp')"
   ]
  },
  {
   "cell_type": "code",
   "execution_count": null,
   "id": "fe8eaed7-d013-471b-8b4f-10ee95aa04b4",
   "metadata": {},
   "outputs": [],
   "source": []
  }
 ],
 "metadata": {
  "kernelspec": {
   "display_name": "Python 3 (ipykernel)",
   "language": "python",
   "name": "python3"
  },
  "language_info": {
   "codemirror_mode": {
    "name": "ipython",
    "version": 3
   },
   "file_extension": ".py",
   "mimetype": "text/x-python",
   "name": "python",
   "nbconvert_exporter": "python",
   "pygments_lexer": "ipython3",
   "version": "3.11.7"
  }
 },
 "nbformat": 4,
 "nbformat_minor": 5
}
