{
 "cells": [
  {
   "cell_type": "code",
   "execution_count": 1,
   "id": "3f833736-3f6c-45eb-ab64-39f8ee69d433",
   "metadata": {},
   "outputs": [],
   "source": [
    "from wrds2pg import wrds_update_pq"
   ]
  },
  {
   "cell_type": "code",
   "execution_count": 2,
   "id": "f17c0f23-b71a-4e62-b54c-17e8dad8363c",
   "metadata": {},
   "outputs": [
    {
     "name": "stdout",
     "output_type": "stream",
     "text": [
      "Forcing update based on user request.\n",
      "Beginning file download at 13:58:14.\n",
      "Saving data to temporary CSV.\n",
      "Converting temporary CSV to parquet.\n",
      "Parquet file: data/audit/auditsox302.parquet\n",
      "Completed creation of parquet file at 13:58:27.\n",
      "\n"
     ]
    }
   ],
   "source": [
    "updated = wrds_update_pq(\"auditsox302\", \"audit\",\n",
    "                         force=True,\n",
    "                         obs=1000,\n",
    "                         data_dir=\"data\",\n",
    "                         drop=\"prior: match: closest: ic_dc_text:\", \n",
    "                         col_types = {\"ic_dc_key\": \"integer\", \n",
    "                                      \"is_effective\": \"integer\",\n",
    "                                      \"material_weakness\": \"boolean\",\n",
    "                                      \"sig_deficiency\": \"boolean\",\n",
    "                                      \"noteff_acc_rule\": \"integer\",\n",
    "                                      \"noteff_fin_fraud\": \"integer\",\n",
    "                                      \"notefferrors\": \"integer\",\n",
    "                                      \"noteff_other\": \"integer\",\n",
    "                                      \"eventdate_aud_fkey\": \"integer\"})"
   ]
  }
 ],
 "metadata": {
  "kernelspec": {
   "display_name": "Python 3 (ipykernel)",
   "language": "python",
   "name": "python3"
  },
  "language_info": {
   "codemirror_mode": {
    "name": "ipython",
    "version": 3
   },
   "file_extension": ".py",
   "mimetype": "text/x-python",
   "name": "python",
   "nbconvert_exporter": "python",
   "pygments_lexer": "ipython3",
   "version": "3.11.7"
  }
 },
 "nbformat": 4,
 "nbformat_minor": 5
}
