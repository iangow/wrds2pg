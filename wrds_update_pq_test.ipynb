{
 "cells": [
  {
   "cell_type": "code",
   "execution_count": 1,
   "id": "3f833736-3f6c-45eb-ab64-39f8ee69d433",
   "metadata": {},
   "outputs": [],
   "source": [
    "from wrds2pg import wrds_update, wrds_update_csv, wrds_update_pq"
   ]
  },
  {
   "cell_type": "code",
   "execution_count": 2,
   "id": "046a53fd-ab7e-43ed-9778-3aedb3ccb1a1",
   "metadata": {},
   "outputs": [
    {
     "name": "stdout",
     "output_type": "stream",
     "text": [
      "Forcing update based on user request.\n",
      "Beginning file download at 15:36:45.\n",
      "Completed file download at 15:36:57.\n"
     ]
    }
   ],
   "source": [
    "updated = wrds_update_csv(\"auditsox302\", \"audit\",\n",
    "                          obs=100, force=True,\n",
    "                          data_dir=\"/Users/iangow/Downloads\",\n",
    "                          drop=\"prior: match: closest: ic_dc_text:\")"
   ]
  },
  {
   "cell_type": "code",
   "execution_count": 3,
   "id": "44cc4f9d-2efe-475a-b375-605d40878546",
   "metadata": {},
   "outputs": [],
   "source": [
    "# !bbedit /Users/iangow/Downloads/audit/auditsox302.csv.gz"
   ]
  },
  {
   "cell_type": "code",
   "execution_count": 4,
   "id": "860050e1-a996-4f4d-8707-6e5cc19237a9",
   "metadata": {},
   "outputs": [
    {
     "name": "stdout",
     "output_type": "stream",
     "text": [
      "Forcing update based on user request.\n",
      "Beginning file import at 15:37:08.\n",
      "Importing data into audit.auditsox302\n",
      "Completed file import at 15:39:31.\n"
     ]
    }
   ],
   "source": [
    "updated = wrds_update(\"auditsox302\", \"audit\",\n",
    "                      force=True,\n",
    "                      drop=\"prior: match: closest: ic_dc_text:\", \n",
    "                      col_types = {\"ic_dc_key\": \"integer\", \n",
    "                                   \"is_effective\": \"integer\",\n",
    "                                   \"material_weakness\": \"boolean\",\n",
    "                                   \"sig_deficiency\": \"boolean\",\n",
    "                                   \"noteff_acc_rule\": \"integer\",\n",
    "                                   \"noteff_fin_fraud\": \"integer\",\n",
    "                                   \"notefferrors\": \"integer\",\n",
    "                                   \"noteff_other\": \"integer\",\n",
    "                                   \"eventdate_aud_fkey\": \"integer\"})"
   ]
  },
  {
   "cell_type": "code",
   "execution_count": 5,
   "id": "f17c0f23-b71a-4e62-b54c-17e8dad8363c",
   "metadata": {},
   "outputs": [
    {
     "name": "stdout",
     "output_type": "stream",
     "text": [
      "Forcing update based on user request.\n",
      "Beginning file download at 15:39:35.\n",
      "Saving data to temporary CSV.\n",
      "Converting temporary CSV to parquet.\n",
      "Parquet file: /Users/iangow/Library/CloudStorage/Dropbox/pq_data/audit/auditsox302.parquet\n",
      "Completed creation of parquet file at 15:41:59.\n"
     ]
    }
   ],
   "source": [
    "updated = wrds_update_pq(\"auditsox302\", \"audit\",\n",
    "                         force=True,\n",
    "                         drop=\"prior: match: closest: ic_dc_text:\", \n",
    "                         col_types = {\"ic_dc_key\": \"integer\", \n",
    "                                      \"is_effective\": \"integer\",\n",
    "                                      \"material_weakness\": \"boolean\",\n",
    "                                      \"sig_deficiency\": \"boolean\",\n",
    "                                      \"noteff_acc_rule\": \"integer\",\n",
    "                                      \"noteff_fin_fraud\": \"integer\",\n",
    "                                      \"notefferrors\": \"integer\",\n",
    "                                      \"noteff_other\": \"integer\",\n",
    "                                      \"eventdate_aud_fkey\": \"integer\"})"
   ]
  },
  {
   "cell_type": "code",
   "execution_count": null,
   "id": "3e9c56f9-fdd6-44b6-92d5-21f41654209b",
   "metadata": {},
   "outputs": [],
   "source": []
  }
 ],
 "metadata": {
  "kernelspec": {
   "display_name": "Python 3 (ipykernel)",
   "language": "python",
   "name": "python3"
  },
  "language_info": {
   "codemirror_mode": {
    "name": "ipython",
    "version": 3
   },
   "file_extension": ".py",
   "mimetype": "text/x-python",
   "name": "python",
   "nbconvert_exporter": "python",
   "pygments_lexer": "ipython3",
   "version": "3.11.3"
  }
 },
 "nbformat": 4,
 "nbformat_minor": 5
}
