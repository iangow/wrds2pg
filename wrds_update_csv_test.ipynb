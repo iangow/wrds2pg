{
 "cells": [
  {
   "cell_type": "code",
   "execution_count": 1,
   "id": "d7807845-93fc-4a06-9b14-57cb9f964817",
   "metadata": {},
   "outputs": [],
   "source": [
    "from wrds2pg import wrds_update_csv"
   ]
  },
  {
   "cell_type": "code",
   "execution_count": 2,
   "id": "4e44b05f-4a10-4806-aad9-7b6b784a50d0",
   "metadata": {},
   "outputs": [
    {
     "name": "stdout",
     "output_type": "stream",
     "text": [
      "crsp.dsi already up to date\n"
     ]
    },
    {
     "data": {
      "text/plain": [
       "False"
      ]
     },
     "execution_count": 2,
     "metadata": {},
     "output_type": "execute_result"
    }
   ],
   "source": [
    "csv_path = \"~/Downloads\"\n",
    "wrds_update_csv(\"dsi\", \"crsp\", data_dir=csv_path, wrds_id=\"iangow\")"
   ]
  },
  {
   "cell_type": "code",
   "execution_count": 3,
   "id": "9808e36c-577c-4d8f-8a4f-ced768e77d70",
   "metadata": {},
   "outputs": [
    {
     "data": {
      "text/plain": [
       "\u001b[0;31mSignature:\u001b[0m\n",
       " \u001b[0mwrds_update_csv\u001b[0m\u001b[0;34m(\u001b[0m\u001b[0;34m\u001b[0m\n",
       "\u001b[0;34m\u001b[0m    \u001b[0mtable_name\u001b[0m\u001b[0;34m,\u001b[0m\u001b[0;34m\u001b[0m\n",
       "\u001b[0;34m\u001b[0m    \u001b[0mschema\u001b[0m\u001b[0;34m,\u001b[0m\u001b[0;34m\u001b[0m\n",
       "\u001b[0;34m\u001b[0m    \u001b[0mdata_dir\u001b[0m\u001b[0;34m=\u001b[0m\u001b[0;32mNone\u001b[0m\u001b[0;34m,\u001b[0m\u001b[0;34m\u001b[0m\n",
       "\u001b[0;34m\u001b[0m    \u001b[0mwrds_id\u001b[0m\u001b[0;34m=\u001b[0m\u001b[0;34m'iangow'\u001b[0m\u001b[0;34m,\u001b[0m\u001b[0;34m\u001b[0m\n",
       "\u001b[0;34m\u001b[0m    \u001b[0mforce\u001b[0m\u001b[0;34m=\u001b[0m\u001b[0;32mFalse\u001b[0m\u001b[0;34m,\u001b[0m\u001b[0;34m\u001b[0m\n",
       "\u001b[0;34m\u001b[0m    \u001b[0mfix_missing\u001b[0m\u001b[0;34m=\u001b[0m\u001b[0;32mFalse\u001b[0m\u001b[0;34m,\u001b[0m\u001b[0;34m\u001b[0m\n",
       "\u001b[0;34m\u001b[0m    \u001b[0mfix_cr\u001b[0m\u001b[0;34m=\u001b[0m\u001b[0;32mFalse\u001b[0m\u001b[0;34m,\u001b[0m\u001b[0;34m\u001b[0m\n",
       "\u001b[0;34m\u001b[0m    \u001b[0mdrop\u001b[0m\u001b[0;34m=\u001b[0m\u001b[0;34m''\u001b[0m\u001b[0;34m,\u001b[0m\u001b[0;34m\u001b[0m\n",
       "\u001b[0;34m\u001b[0m    \u001b[0mkeep\u001b[0m\u001b[0;34m=\u001b[0m\u001b[0;34m''\u001b[0m\u001b[0;34m,\u001b[0m\u001b[0;34m\u001b[0m\n",
       "\u001b[0;34m\u001b[0m    \u001b[0mobs\u001b[0m\u001b[0;34m=\u001b[0m\u001b[0;34m''\u001b[0m\u001b[0;34m,\u001b[0m\u001b[0;34m\u001b[0m\n",
       "\u001b[0;34m\u001b[0m    \u001b[0mrename\u001b[0m\u001b[0;34m=\u001b[0m\u001b[0;34m''\u001b[0m\u001b[0;34m,\u001b[0m\u001b[0;34m\u001b[0m\n",
       "\u001b[0;34m\u001b[0m    \u001b[0malt_table_name\u001b[0m\u001b[0;34m=\u001b[0m\u001b[0;32mNone\u001b[0m\u001b[0;34m,\u001b[0m\u001b[0;34m\u001b[0m\n",
       "\u001b[0;34m\u001b[0m    \u001b[0mencoding\u001b[0m\u001b[0;34m=\u001b[0m\u001b[0;32mNone\u001b[0m\u001b[0;34m,\u001b[0m\u001b[0;34m\u001b[0m\n",
       "\u001b[0;34m\u001b[0m    \u001b[0msas_schema\u001b[0m\u001b[0;34m=\u001b[0m\u001b[0;32mNone\u001b[0m\u001b[0;34m,\u001b[0m\u001b[0;34m\u001b[0m\n",
       "\u001b[0;34m\u001b[0m    \u001b[0msas_encoding\u001b[0m\u001b[0;34m=\u001b[0m\u001b[0;32mNone\u001b[0m\u001b[0;34m,\u001b[0m\u001b[0;34m\u001b[0m\n",
       "\u001b[0;34m\u001b[0m\u001b[0;34m)\u001b[0m\u001b[0;34m\u001b[0m\u001b[0;34m\u001b[0m\u001b[0m\n",
       "\u001b[0;31mDocstring:\u001b[0m\n",
       "Update a local CSV version of a WRDS table.\n",
       "\n",
       "Parameters\n",
       "----------\n",
       "table_name: \n",
       "    Name of table (based on name of WRDS SAS file) \n",
       "\n",
       "schema: \n",
       "    Name of schema (normally the SAS library name)\n",
       "\n",
       "data_dir: \n",
       "    Root directory of CSV data repository. \n",
       "    The default is to use the environment value `CSV_DIR`.\n",
       "                \n",
       "wrds_id: string\n",
       "    The WRDS ID to be use to access WRDS SAS. \n",
       "    Default is to use the environment value `WRDS_ID`\n",
       "\n",
       "force: Boolean\n",
       "    Forces update of file without checking status of WRDS SAS file.        \n",
       "    Default is `False`.\n",
       "    \n",
       "fix_missing: Boolean\n",
       "    Default is `False`\n",
       "    \n",
       "fix_cr: Boolean\n",
       "    Set to `True` when the SAS file contains unquoted carriage returns that would\n",
       "    otherwise produce `BadCopyFileFormat`.\n",
       "    Default is `False`.\n",
       "\n",
       "drop: string\n",
       "    SAS code snippet indicating variables to be dropped.\n",
       "    Multiple variables should be separated by spaces and SAS wildcards can be used.\n",
       "    See examples below.\n",
       "    \n",
       "keep:\n",
       "    \n",
       "obs: Integer\n",
       "    Number of observations to import from SAS WRDS file.\n",
       "    Setting this to modest value (e.g., `obs=1000`) can be useful for testing\n",
       "    `wrds_update()` with large files.\n",
       "    \n",
       "rename: string\n",
       "    SAS code snippet indicating variables to be renamed.\n",
       "    (e.g., rename=\"fee=mgt_fee\" renames `fee` to `mgt_fee`).\n",
       "    \n",
       "alt_table_name:\n",
       "\n",
       "encoding:\n",
       "\n",
       "sas_schema:\n",
       "    \n",
       "sas_encoding:\n",
       "\n",
       "Returns\n",
       "-------\n",
       "\n",
       "Examples\n",
       "----------\n",
       ">>> wrds_update_csv(\"dsi\", \"crsp\", drop=\"usdval usdcnt\")\n",
       ">>> wrds_update_csv(\"bankrupt\", \"audit\", drop=\"match: closest: prior:\")\n",
       "    \n",
       "\u001b[0;31mFile:\u001b[0m      ~/git/wrds2pg/wrds2pg/wrds2pg.py\n",
       "\u001b[0;31mType:\u001b[0m      function"
      ]
     },
     "metadata": {},
     "output_type": "display_data"
    }
   ],
   "source": [
    "? wrds_update_csv"
   ]
  },
  {
   "cell_type": "code",
   "execution_count": 4,
   "id": "3d0b9194-68f1-43d7-ba85-d158a3501570",
   "metadata": {},
   "outputs": [],
   "source": [
    "# I suspect this WRDS file doesn't exist any more or has been moved.\n",
    "# wrds_update_csv(\"bankrupt\", \"audit\", data_dir=csv_path, drop=\"match: closest: prior:\", force=True)"
   ]
  },
  {
   "cell_type": "code",
   "execution_count": null,
   "id": "6d752489-4c21-4320-81cb-f621419427c2",
   "metadata": {},
   "outputs": [],
   "source": []
  }
 ],
 "metadata": {
  "kernelspec": {
   "display_name": "Python 3 (ipykernel)",
   "language": "python",
   "name": "python3"
  },
  "language_info": {
   "codemirror_mode": {
    "name": "ipython",
    "version": 3
   },
   "file_extension": ".py",
   "mimetype": "text/x-python",
   "name": "python",
   "nbconvert_exporter": "python",
   "pygments_lexer": "ipython3",
   "version": "3.11.3"
  }
 },
 "nbformat": 4,
 "nbformat_minor": 5
}
