{
 "cells": [
  {
   "cell_type": "code",
   "execution_count": 1,
   "id": "0026d9fd-7f6f-4401-a2cb-e8bbcb13d902",
   "metadata": {},
   "outputs": [],
   "source": [
    "import os\n",
    "os.environ[\"CSV_DIR\"]='data'"
   ]
  },
  {
   "cell_type": "code",
   "execution_count": 2,
   "id": "d7807845-93fc-4a06-9b14-57cb9f964817",
   "metadata": {},
   "outputs": [],
   "source": [
    "from wrds2pg import wrds_update_csv"
   ]
  },
  {
   "cell_type": "code",
   "execution_count": 3,
   "id": "d3afab72-061f-4e93-ab16-d7820729f9e1",
   "metadata": {},
   "outputs": [
    {
     "name": "stdout",
     "output_type": "stream",
     "text": [
      "Forcing update based on user request.\n",
      "Beginning file download at 13:59:57.\n",
      "Completed file download at 14:00:05.\n",
      "\n"
     ]
    },
    {
     "data": {
      "text/plain": [
       "True"
      ]
     },
     "execution_count": 3,
     "metadata": {},
     "output_type": "execute_result"
    }
   ],
   "source": [
    "wrds_update_csv(\"feed21_bankruptcy_notification\", \"audit\", \n",
    "                force=True, drop=\"match: closest: prior:\")"
   ]
  },
  {
   "cell_type": "code",
   "execution_count": 4,
   "id": "9808e36c-577c-4d8f-8a4f-ced768e77d70",
   "metadata": {},
   "outputs": [],
   "source": [
    "# !bbedit data/audit/feed21_bankruptcy_notification.csv.gz"
   ]
  },
  {
   "cell_type": "code",
   "execution_count": 5,
   "id": "65dd21d5-2c28-494a-b45c-5dc0a97f1b92",
   "metadata": {},
   "outputs": [
    {
     "name": "stdout",
     "output_type": "stream",
     "text": [
      "Forcing update based on user request.\n",
      "Beginning file download at 14:00:10.\n",
      "Completed file download at 14:00:18.\n",
      "\n"
     ]
    },
    {
     "data": {
      "text/plain": [
       "True"
      ]
     },
     "execution_count": 5,
     "metadata": {},
     "output_type": "execute_result"
    }
   ],
   "source": [
    "wrds_update_csv(\"dsi\", \"crsp\", drop=\"usdval usdcnt\", force=True)"
   ]
  }
 ],
 "metadata": {
  "kernelspec": {
   "display_name": "Python 3 (ipykernel)",
   "language": "python",
   "name": "python3"
  },
  "language_info": {
   "codemirror_mode": {
    "name": "ipython",
    "version": 3
   },
   "file_extension": ".py",
   "mimetype": "text/x-python",
   "name": "python",
   "nbconvert_exporter": "python",
   "pygments_lexer": "ipython3",
   "version": "3.11.7"
  }
 },
 "nbformat": 4,
 "nbformat_minor": 5
}
