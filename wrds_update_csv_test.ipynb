{
 "cells": [
  {
   "cell_type": "code",
   "execution_count": 1,
   "id": "0026d9fd-7f6f-4401-a2cb-e8bbcb13d902",
   "metadata": {},
   "outputs": [],
   "source": [
    "import os\n",
    "os.environ[\"CSV_DIR\"]='/Users/iangow/Dropbox/csv_data'"
   ]
  },
  {
   "cell_type": "code",
   "execution_count": 2,
   "id": "d7807845-93fc-4a06-9b14-57cb9f964817",
   "metadata": {},
   "outputs": [],
   "source": [
    "from wrds2pg import wrds_update_csv, wrds_update, wrds_update_pq"
   ]
  },
  {
   "cell_type": "code",
   "execution_count": 3,
   "id": "d3afab72-061f-4e93-ab16-d7820729f9e1",
   "metadata": {},
   "outputs": [
    {
     "name": "stdout",
     "output_type": "stream",
     "text": [
      "Forcing update based on user request.\n",
      "Beginning file download at 15:34:36.\n",
      "Completed file download at 15:34:44.\n"
     ]
    },
    {
     "data": {
      "text/plain": [
       "True"
      ]
     },
     "execution_count": 3,
     "metadata": {},
     "output_type": "execute_result"
    }
   ],
   "source": [
    "wrds_update_csv(\"feed21_bankruptcy_notification\", \"audit\", \n",
    "                force=True, drop=\"match: closest: prior:\")"
   ]
  },
  {
   "cell_type": "code",
   "execution_count": 4,
   "id": "4e44b05f-4a10-4806-aad9-7b6b784a50d0",
   "metadata": {},
   "outputs": [
    {
     "name": "stdout",
     "output_type": "stream",
     "text": [
      "Forcing update based on user request.\n",
      "Beginning file import at 15:34:51.\n",
      "Importing data into audit.feed21_bankruptcy_notification\n",
      "Completed file import at 15:35:00.\n"
     ]
    },
    {
     "data": {
      "text/plain": [
       "True"
      ]
     },
     "execution_count": 4,
     "metadata": {},
     "output_type": "execute_result"
    }
   ],
   "source": [
    "wrds_update(\"feed21_bankruptcy_notification\", \"audit\", \n",
    "            force=True, drop=\"match: closest: prior:\")"
   ]
  },
  {
   "cell_type": "code",
   "execution_count": 5,
   "id": "725dc2a1-b529-48b0-bc2d-71302f7c78b6",
   "metadata": {},
   "outputs": [
    {
     "name": "stdout",
     "output_type": "stream",
     "text": [
      "Forcing update based on user request.\n",
      "Beginning file download at 15:35:04.\n",
      "Saving data to temporary CSV.\n",
      "Converting temporary CSV to parquet.\n",
      "Parquet file: /Users/iangow/Library/CloudStorage/Dropbox/pq_data/audit/feed21_bankruptcy_notification.parquet\n",
      "Completed creation of parquet file at 15:35:16.\n"
     ]
    },
    {
     "data": {
      "text/plain": [
       "True"
      ]
     },
     "execution_count": 5,
     "metadata": {},
     "output_type": "execute_result"
    }
   ],
   "source": [
    "wrds_update_pq(\"feed21_bankruptcy_notification\", \"audit\", \n",
    "               force=True, drop=\"match: closest: prior:\")"
   ]
  },
  {
   "cell_type": "code",
   "execution_count": 6,
   "id": "832b1e30-0da3-4ea1-80bd-6df4d4f25443",
   "metadata": {},
   "outputs": [
    {
     "name": "stdout",
     "output_type": "stream",
     "text": [
      "Forcing update based on user request.\n",
      "Beginning file import at 15:35:23.\n",
      "Importing data into crsp.dsi\n",
      "Completed file import at 15:35:32.\n"
     ]
    },
    {
     "data": {
      "text/plain": [
       "True"
      ]
     },
     "execution_count": 6,
     "metadata": {},
     "output_type": "execute_result"
    }
   ],
   "source": [
    "wrds_update(\"dsi\", \"crsp\", drop=\"usdval usdcnt\", force=True)"
   ]
  },
  {
   "cell_type": "code",
   "execution_count": 7,
   "id": "d0ba8991-c882-45e0-bd6c-d86a15f9442d",
   "metadata": {},
   "outputs": [
    {
     "name": "stdout",
     "output_type": "stream",
     "text": [
      "Forcing update based on user request.\n",
      "Beginning file import at 15:35:40.\n",
      "Importing data into crsp.dsi\n",
      "Completed file import at 15:35:49.\n"
     ]
    },
    {
     "data": {
      "text/plain": [
       "True"
      ]
     },
     "execution_count": 7,
     "metadata": {},
     "output_type": "execute_result"
    }
   ],
   "source": [
    "wrds_update(\"dsi\", \"crsp\", force=True)"
   ]
  },
  {
   "cell_type": "code",
   "execution_count": 8,
   "id": "65dd21d5-2c28-494a-b45c-5dc0a97f1b92",
   "metadata": {},
   "outputs": [
    {
     "name": "stdout",
     "output_type": "stream",
     "text": [
      "Forcing update based on user request.\n",
      "Beginning file download at 15:35:53.\n",
      "Saving data to temporary CSV.\n",
      "Converting temporary CSV to parquet.\n",
      "Parquet file: /Users/iangow/Library/CloudStorage/Dropbox/pq_data/crsp/dsi.parquet\n",
      "Completed creation of parquet file at 15:36:06.\n"
     ]
    },
    {
     "data": {
      "text/plain": [
       "True"
      ]
     },
     "execution_count": 8,
     "metadata": {},
     "output_type": "execute_result"
    }
   ],
   "source": [
    "wrds_update_pq(\"dsi\", \"crsp\", drop=\"usdval usdcnt\", force=True)"
   ]
  },
  {
   "cell_type": "code",
   "execution_count": 9,
   "id": "25f1e98f-65ee-42ec-9baa-948efd128951",
   "metadata": {},
   "outputs": [
    {
     "name": "stdout",
     "output_type": "stream",
     "text": [
      "Forcing update based on user request.\n",
      "Beginning file download at 15:36:10.\n",
      "Saving data to temporary CSV.\n",
      "Converting temporary CSV to parquet.\n",
      "Parquet file: /Users/iangow/Library/CloudStorage/Dropbox/pq_data/crsp/dsi.parquet\n",
      "Completed creation of parquet file at 15:36:22.\n"
     ]
    },
    {
     "data": {
      "text/plain": [
       "True"
      ]
     },
     "execution_count": 9,
     "metadata": {},
     "output_type": "execute_result"
    }
   ],
   "source": [
    "wrds_update_pq(\"dsi\", \"crsp\", force=True)"
   ]
  },
  {
   "cell_type": "code",
   "execution_count": 10,
   "id": "9808e36c-577c-4d8f-8a4f-ced768e77d70",
   "metadata": {},
   "outputs": [],
   "source": [
    "# !bbedit /Users/iangow/Dropbox/csv_data/audit/feed21_bankruptcy_notification.csv.gz"
   ]
  }
 ],
 "metadata": {
  "kernelspec": {
   "display_name": "Python 3 (ipykernel)",
   "language": "python",
   "name": "python3"
  },
  "language_info": {
   "codemirror_mode": {
    "name": "ipython",
    "version": 3
   },
   "file_extension": ".py",
   "mimetype": "text/x-python",
   "name": "python",
   "nbconvert_exporter": "python",
   "pygments_lexer": "ipython3",
   "version": "3.11.3"
  }
 },
 "nbformat": 4,
 "nbformat_minor": 5
}
