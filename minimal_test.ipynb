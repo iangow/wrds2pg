{
 "cells": [
  {
   "cell_type": "code",
   "execution_count": 1,
   "id": "f7d314f9-0bf1-4361-bfb4-684206c775be",
   "metadata": {
    "execution": {
     "iopub.execute_input": "2024-01-08T18:11:09.081382Z",
     "iopub.status.busy": "2024-01-08T18:11:09.080836Z",
     "iopub.status.idle": "2024-01-08T18:11:09.675815Z",
     "shell.execute_reply": "2024-01-08T18:11:09.675378Z",
     "shell.execute_reply.started": "2024-01-08T18:11:09.081342Z"
    }
   },
   "outputs": [],
   "source": [
    "from wrds2pg import wrds_update"
   ]
  },
  {
   "cell_type": "code",
   "execution_count": 2,
   "id": "8ea2833b-4e06-45d3-94be-7715308de634",
   "metadata": {
    "execution": {
     "iopub.execute_input": "2024-01-08T18:11:09.745692Z",
     "iopub.status.busy": "2024-01-08T18:11:09.745598Z",
     "iopub.status.idle": "2024-01-08T18:11:14.370188Z",
     "shell.execute_reply": "2024-01-08T18:11:14.368751Z",
     "shell.execute_reply.started": "2024-01-08T18:11:09.745685Z"
    }
   },
   "outputs": [
    {
     "name": "stdout",
     "output_type": "stream",
     "text": [
      "crsp.dsi already up to date\n"
     ]
    },
    {
     "data": {
      "text/plain": [
       "False"
      ]
     },
     "execution_count": 2,
     "metadata": {},
     "output_type": "execute_result"
    }
   ],
   "source": [
    "wrds_update(\"dsi\", \"crsp\")"
   ]
  },
  {
   "cell_type": "code",
   "execution_count": 3,
   "id": "99b2f73a-d191-4e5c-85bb-6e943e273d31",
   "metadata": {
    "execution": {
     "iopub.execute_input": "2024-01-08T18:11:18.337107Z",
     "iopub.status.busy": "2024-01-08T18:11:18.336797Z",
     "iopub.status.idle": "2024-01-08T18:11:35.675426Z",
     "shell.execute_reply": "2024-01-08T18:11:35.674642Z",
     "shell.execute_reply.started": "2024-01-08T18:11:18.337081Z"
    }
   },
   "outputs": [
    {
     "name": "stdout",
     "output_type": "stream",
     "text": [
      "Forcing update based on user request.\n",
      "Beginning file import at 18:11:27 UTC.\n",
      "Importing data into crsp.dsi.\n",
      "Completed file import at 18:11:35 UTC.\n",
      "\n"
     ]
    },
    {
     "data": {
      "text/plain": [
       "True"
      ]
     },
     "execution_count": 3,
     "metadata": {},
     "output_type": "execute_result"
    }
   ],
   "source": [
    "wrds_update(\"dsi\", \"crsp\", force=True)"
   ]
  },
  {
   "cell_type": "code",
   "execution_count": 4,
   "id": "f9a550cf-ec51-4e2f-88a3-8ab5e408f094",
   "metadata": {
    "execution": {
     "iopub.execute_input": "2024-01-08T18:11:38.251849Z",
     "iopub.status.busy": "2024-01-08T18:11:38.251496Z",
     "iopub.status.idle": "2024-01-08T18:11:42.606462Z",
     "shell.execute_reply": "2024-01-08T18:11:42.605845Z",
     "shell.execute_reply.started": "2024-01-08T18:11:38.251827Z"
    }
   },
   "outputs": [
    {
     "name": "stdout",
     "output_type": "stream",
     "text": [
      "crsp.dsi already up to date\n"
     ]
    },
    {
     "data": {
      "text/plain": [
       "False"
      ]
     },
     "execution_count": 4,
     "metadata": {},
     "output_type": "execute_result"
    }
   ],
   "source": [
    "wrds_update(\"dsi\", \"crsp\")"
   ]
  },
  {
   "cell_type": "code",
   "execution_count": null,
   "id": "e042ccad-c90a-4e59-951b-fcc351724d41",
   "metadata": {},
   "outputs": [],
   "source": []
  }
 ],
 "metadata": {
  "kernelspec": {
   "display_name": "Python 3 (ipykernel)",
   "language": "python",
   "name": "python3"
  },
  "language_info": {
   "codemirror_mode": {
    "name": "ipython",
    "version": 3
   },
   "file_extension": ".py",
   "mimetype": "text/x-python",
   "name": "python",
   "nbconvert_exporter": "python",
   "pygments_lexer": "ipython3",
   "version": "3.11.3"
  }
 },
 "nbformat": 4,
 "nbformat_minor": 5
}
