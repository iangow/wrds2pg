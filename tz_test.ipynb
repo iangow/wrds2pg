{
 "cells": [
  {
   "cell_type": "code",
   "execution_count": 1,
   "id": "58d6bcb9-a6c2-4092-8ab2-5774995c0bfe",
   "metadata": {
    "execution": {
     "iopub.execute_input": "2024-01-12T20:29:09.419398Z",
     "iopub.status.busy": "2024-01-12T20:29:09.419241Z",
     "iopub.status.idle": "2024-01-12T20:29:09.427244Z",
     "shell.execute_reply": "2024-01-12T20:29:09.426182Z",
     "shell.execute_reply.started": "2024-01-12T20:29:09.419380Z"
    }
   },
   "outputs": [],
   "source": [
    "import os\n",
    "os.environ[\"WRDS_ID\"] = \"iangow\"\n",
    "os.environ[\"PGHOST\"] = \"localhost\"\n",
    "os.environ[\"PGDATABASE\"] = \"iangow\""
   ]
  },
  {
   "cell_type": "code",
   "execution_count": 2,
   "id": "28ee0c25-630e-4c05-8cfa-bca9f320cf1b",
   "metadata": {
    "execution": {
     "iopub.execute_input": "2024-01-12T20:29:09.429143Z",
     "iopub.status.busy": "2024-01-12T20:29:09.429012Z",
     "iopub.status.idle": "2024-01-12T20:29:09.880714Z",
     "shell.execute_reply": "2024-01-12T20:29:09.880388Z",
     "shell.execute_reply.started": "2024-01-12T20:29:09.429131Z"
    }
   },
   "outputs": [],
   "source": [
    "from wrds2pg import wrds_update, get_wrds_sas, get_process\n",
    "from wrds2pg import wrds_update_csv, wrds_update_pq"
   ]
  },
  {
   "cell_type": "code",
   "execution_count": 3,
   "id": "0ccef0f8-4f93-49fa-80b1-4a59dd20b14a",
   "metadata": {
    "execution": {
     "iopub.execute_input": "2024-01-12T20:29:09.881241Z",
     "iopub.status.busy": "2024-01-12T20:29:09.881116Z",
     "iopub.status.idle": "2024-01-12T20:29:09.883047Z",
     "shell.execute_reply": "2024-01-12T20:29:09.882811Z",
     "shell.execute_reply.started": "2024-01-12T20:29:09.881233Z"
    }
   },
   "outputs": [],
   "source": [
    "tz = \"America/New_York\"\n",
    "schema = \"audit\"\n",
    "col_types = {\"file_accepted\": \"timestamptz\",\n",
    "             \"ac_file_accepted\": \"timestamptz\"}\n",
    "table_name = \"feed20_nt\"\n",
    "ts_strs = [\"file_accepted\", \"ac_file_accepted\"]\n",
    "ts_vars = ts_strs\n",
    "keep = \"nt_notify_key \" + ' '.join(ts_strs)\n",
    "where = None\n",
    "obs = 20"
   ]
  },
  {
   "cell_type": "code",
   "execution_count": 4,
   "id": "62dd2997-9bb0-4e1a-8580-0e9a71ac2f50",
   "metadata": {
    "execution": {
     "iopub.execute_input": "2024-01-12T20:29:09.883376Z",
     "iopub.status.busy": "2024-01-12T20:29:09.883310Z",
     "iopub.status.idle": "2024-01-12T20:29:14.875507Z",
     "shell.execute_reply": "2024-01-12T20:29:14.874402Z",
     "shell.execute_reply.started": "2024-01-12T20:29:09.883369Z"
    }
   },
   "outputs": [],
   "source": [
    "sas_code = get_wrds_sas(table_name=table_name, schema=schema,\n",
    "                        col_types=col_types,\n",
    "                        wrds_id=os.getenv(\"WRDS_ID\"),\n",
    "                        keep=keep, obs=obs, where=where,\n",
    "                        tz=tz, ts_strs=ts_strs)\n",
    "\n",
    "# print(sas_code)"
   ]
  },
  {
   "cell_type": "code",
   "execution_count": 5,
   "id": "05fac416-4159-4035-8621-b2ae605d7803",
   "metadata": {
    "execution": {
     "iopub.execute_input": "2024-01-12T20:29:14.877483Z",
     "iopub.status.busy": "2024-01-12T20:29:14.877229Z",
     "iopub.status.idle": "2024-01-12T20:29:15.888872Z",
     "shell.execute_reply": "2024-01-12T20:29:15.887671Z",
     "shell.execute_reply.started": "2024-01-12T20:29:14.877455Z"
    }
   },
   "outputs": [],
   "source": [
    "p = get_process(sas_code, wrds_id=os.getenv(\"WRDS_ID\"))"
   ]
  },
  {
   "cell_type": "code",
   "execution_count": 6,
   "id": "5614fb13-7e52-4209-8ef7-77c82de124fa",
   "metadata": {
    "execution": {
     "iopub.execute_input": "2024-01-12T20:29:15.892203Z",
     "iopub.status.busy": "2024-01-12T20:29:15.891823Z",
     "iopub.status.idle": "2024-01-12T20:29:19.162827Z",
     "shell.execute_reply": "2024-01-12T20:29:19.160771Z",
     "shell.execute_reply.started": "2024-01-12T20:29:15.892167Z"
    }
   },
   "outputs": [
    {
     "data": {
      "text/plain": [
       "['NT_NOTIFY_KEY,file_accepted,ac_file_accepted\\n',\n",
       " '18350,2004-05-17T13:19:23-04:00,2004-05-24T13:33:35-04:00\\n',\n",
       " '15476,2004-08-16T15:01:27-04:00,2004-08-18T11:56:04-04:00\\n',\n",
       " '4370,2005-04-01T09:39:51-05:00,2005-05-19T05:55:59-04:00\\n',\n",
       " '4246,2005-05-17T10:46:11-04:00,2005-06-23T10:47:44-04:00\\n',\n",
       " '2271,2005-08-16T10:41:29-04:00,2005-09-02T12:52:40-04:00\\n',\n",
       " '754,2005-11-15T11:35:43-05:00,2005-12-02T09:55:40-05:00\\n',\n",
       " '13211,2006-05-16T06:56:34-04:00,2006-05-21T20:00:00-04:00\\n',\n",
       " '26155,2006-08-14T15:27:39-04:00,2006-08-18T12:18:15-04:00\\n',\n",
       " '33292,2006-11-15T06:40:33-05:00,2006-11-20T07:37:08-05:00\\n',\n",
       " '48220,2007-04-03T08:32:27-04:00,2007-04-17T09:45:19-04:00\\n',\n",
       " '53008,2007-05-15T20:00:00-04:00,2007-05-21T07:16:38-04:00\\n',\n",
       " '54900,2007-08-14T20:00:00-04:00,2007-08-20T08:40:14-04:00\\n',\n",
       " '56535,2007-11-15T08:57:11-05:00,2007-12-07T12:48:13-05:00\\n',\n",
       " '58210,2008-03-31T09:40:51-04:00,2008-05-15T10:55:05-04:00\\n',\n",
       " '59638,2008-05-15T09:15:04-04:00,2008-05-19T17:59:09-04:00\\n',\n",
       " '61098,2008-08-14T08:55:18-04:00,2008-08-19T09:30:27-04:00\\n',\n",
       " '64454,2009-03-30T15:38:17-04:00,2009-04-13T10:22:59-04:00\\n',\n",
       " '65708,2009-05-13T08:49:15-04:00,2009-05-20T10:00:56-04:00\\n',\n",
       " '67097,2009-08-07T15:10:13-04:00,2009-08-19T11:58:13-04:00\\n',\n",
       " '68553,2009-11-13T12:58:11-05:00,2009-11-23T07:56:38-05:00\\n']"
      ]
     },
     "execution_count": 6,
     "metadata": {},
     "output_type": "execute_result"
    }
   ],
   "source": [
    "p.readlines()"
   ]
  },
  {
   "cell_type": "code",
   "execution_count": 7,
   "id": "73547c66-1229-4ea4-b233-bea74b908d2e",
   "metadata": {
    "execution": {
     "iopub.execute_input": "2024-01-12T20:29:19.171171Z",
     "iopub.status.busy": "2024-01-12T20:29:19.170730Z",
     "iopub.status.idle": "2024-01-12T20:29:36.247813Z",
     "shell.execute_reply": "2024-01-12T20:29:36.244058Z",
     "shell.execute_reply.started": "2024-01-12T20:29:19.171145Z"
    }
   },
   "outputs": [
    {
     "name": "stdout",
     "output_type": "stream",
     "text": [
      "Forcing update based on user request.\n",
      "Beginning file import at 2024-01-12 20:29:27 UTC.\n",
      "Importing data into audit.temp.\n",
      "Completed file import at 2024-01-12 20:29:36 UTC.\n",
      "\n"
     ]
    },
    {
     "data": {
      "text/plain": [
       "True"
      ]
     },
     "execution_count": 7,
     "metadata": {},
     "output_type": "execute_result"
    }
   ],
   "source": [
    "wrds_update(table_name, schema,\n",
    "            force=True, obs=20,\n",
    "            keep=keep, ts_strs=ts_strs, \n",
    "            col_types = col_types,\n",
    "            alt_table_name=\"temp\", tz=tz)"
   ]
  },
  {
   "cell_type": "code",
   "execution_count": 8,
   "id": "6698cb95-9296-46a2-b883-bb1104a4eea5",
   "metadata": {
    "execution": {
     "iopub.execute_input": "2024-01-12T20:29:36.250196Z",
     "iopub.status.busy": "2024-01-12T20:29:36.249488Z",
     "iopub.status.idle": "2024-01-12T20:29:47.886816Z",
     "shell.execute_reply": "2024-01-12T20:29:47.886080Z",
     "shell.execute_reply.started": "2024-01-12T20:29:36.250168Z"
    }
   },
   "outputs": [
    {
     "name": "stdout",
     "output_type": "stream",
     "text": [
      "Forcing update based on user request.\n",
      "Beginning file download at 2024-01-12 20:29:40 UTC.\n",
      "Completed file download at 2024-01-12 20:29:47 UTC.\n",
      "CSV file: /Users/iangow/Downloads/audit/temp.csv.gz\n",
      "\n"
     ]
    },
    {
     "data": {
      "text/plain": [
       "True"
      ]
     },
     "execution_count": 8,
     "metadata": {},
     "output_type": "execute_result"
    }
   ],
   "source": [
    "wrds_update_csv(table_name, schema,\n",
    "                force=True, obs=20,\n",
    "                data_dir=\"~/Downloads\",\n",
    "                keep=keep,\n",
    "                alt_table_name=\"temp\", tz=tz, ts_strs=ts_strs)"
   ]
  },
  {
   "cell_type": "code",
   "execution_count": 9,
   "id": "9a7216da-7b7d-4a48-8bc8-b088b7d09e67",
   "metadata": {
    "execution": {
     "iopub.execute_input": "2024-01-12T20:29:47.890178Z",
     "iopub.status.busy": "2024-01-12T20:29:47.888324Z",
     "iopub.status.idle": "2024-01-12T20:29:48.131958Z",
     "shell.execute_reply": "2024-01-12T20:29:48.129978Z",
     "shell.execute_reply.started": "2024-01-12T20:29:47.890137Z"
    }
   },
   "outputs": [],
   "source": [
    "!bbedit /Users/iangow/Downloads/audit/temp.csv.gz"
   ]
  },
  {
   "cell_type": "code",
   "execution_count": 10,
   "id": "6ff81e3e-39aa-48f4-9dc0-0eca5fbe2ff0",
   "metadata": {
    "execution": {
     "iopub.execute_input": "2024-01-12T20:29:48.134354Z",
     "iopub.status.busy": "2024-01-12T20:29:48.134016Z",
     "iopub.status.idle": "2024-01-12T20:30:03.425504Z",
     "shell.execute_reply": "2024-01-12T20:30:03.424995Z",
     "shell.execute_reply.started": "2024-01-12T20:29:48.134324Z"
    }
   },
   "outputs": [
    {
     "name": "stdout",
     "output_type": "stream",
     "text": [
      "Forcing update based on user request.\n",
      "Beginning file download at 2024-01-12 20:29:52 UTC.\n",
      "Saving data to temporary CSV.\n",
      "Converting temporary CSV to parquet.\n",
      "Parquet file: /Users/iangow/Downloads/audit/temp.parquet\n",
      "Completed creation of parquet file at 2024-01-12 20:30:03.\n",
      "\n"
     ]
    },
    {
     "data": {
      "text/plain": [
       "True"
      ]
     },
     "execution_count": 10,
     "metadata": {},
     "output_type": "execute_result"
    }
   ],
   "source": [
    "wrds_update_pq(table_name, schema,\n",
    "               force=True, obs=20,\n",
    "               data_dir=\"~/Downloads\",\n",
    "               keep=keep,\n",
    "               col_types=col_types,\n",
    "               alt_table_name=\"temp\", tz=tz, ts_strs=ts_strs)"
   ]
  },
  {
   "cell_type": "code",
   "execution_count": 11,
   "id": "465bf483-a9dd-4fcd-9708-8e185964b4f8",
   "metadata": {
    "execution": {
     "iopub.execute_input": "2024-01-12T20:30:03.426377Z",
     "iopub.status.busy": "2024-01-12T20:30:03.426222Z",
     "iopub.status.idle": "2024-01-12T20:30:03.429166Z",
     "shell.execute_reply": "2024-01-12T20:30:03.428742Z",
     "shell.execute_reply.started": "2024-01-12T20:30:03.426366Z"
    }
   },
   "outputs": [],
   "source": [
    "tz = \"UTC\"\n",
    "schema = \"rpa\"\n",
    "table_name = \"rpa_djpr_equities_2023\"\n",
    "keep = \"rp_story_id event_start_date_utc event_end_date_utc\"\n",
    "where = \"event_start_date_utc is not missing\"\n",
    "col_types = {\"event_start_date_utc\": \"timestamptz\",\n",
    "             \"event_end_date_utc\": \"timestamptz\"}\n",
    "obs = 20"
   ]
  },
  {
   "cell_type": "code",
   "execution_count": 12,
   "id": "42efba17-df7e-4ace-a730-83cc525c5c5b",
   "metadata": {
    "execution": {
     "iopub.execute_input": "2024-01-12T20:30:03.429861Z",
     "iopub.status.busy": "2024-01-12T20:30:03.429759Z",
     "iopub.status.idle": "2024-01-12T20:30:07.175943Z",
     "shell.execute_reply": "2024-01-12T20:30:07.175217Z",
     "shell.execute_reply.started": "2024-01-12T20:30:03.429851Z"
    }
   },
   "outputs": [],
   "source": [
    "sas_code = get_wrds_sas(table_name=table_name, schema=schema,\n",
    "                        wrds_id=os.getenv(\"WRDS_ID\"),\n",
    "                        col_types=col_types,\n",
    "                        keep=keep, obs=obs, where=where,\n",
    "                        tz=tz, ts_strs=ts_strs)\n",
    "# print(sas_code)"
   ]
  },
  {
   "cell_type": "code",
   "execution_count": 13,
   "id": "fcbfe39c-b352-4839-938d-d81e1b908edf",
   "metadata": {
    "execution": {
     "iopub.execute_input": "2024-01-12T20:30:07.178848Z",
     "iopub.status.busy": "2024-01-12T20:30:07.177079Z",
     "iopub.status.idle": "2024-01-12T20:30:08.188892Z",
     "shell.execute_reply": "2024-01-12T20:30:08.187479Z",
     "shell.execute_reply.started": "2024-01-12T20:30:07.178814Z"
    }
   },
   "outputs": [],
   "source": [
    "p = get_process(sas_code, wrds_id=os.getenv(\"WRDS_ID\"))"
   ]
  },
  {
   "cell_type": "code",
   "execution_count": 14,
   "id": "98ba3d98-353a-4bd2-8396-875e74fa3e63",
   "metadata": {
    "execution": {
     "iopub.execute_input": "2024-01-12T20:30:08.191243Z",
     "iopub.status.busy": "2024-01-12T20:30:08.190365Z",
     "iopub.status.idle": "2024-01-12T20:30:10.932442Z",
     "shell.execute_reply": "2024-01-12T20:30:10.928293Z",
     "shell.execute_reply.started": "2024-01-12T20:30:08.191220Z"
    }
   },
   "outputs": [
    {
     "data": {
      "text/plain": [
       "['RP_STORY_ID,EVENT_START_DATE_UTC,EVENT_END_DATE_UTC,file_accepted,ac_file_accepted\\n',\n",
       " '4FDA424D51F5D8AD95C740C0A97C4DCF,2022-01-01T00:00:00+00:00,2023-01-01T00:00:00+00:00,,\\n',\n",
       " '6B8BDDCFD3F0B8673A11ACFD160D1B38,2022-09-06T00:00:00+00:00,2022-09-07T00:00:00+00:00,,\\n',\n",
       " '6B8BDDCFD3F0B8673A11ACFD160D1B38,2022-10-05T00:00:00+00:00,2022-10-06T00:00:00+00:00,,\\n',\n",
       " '8EAD0F12CE0EF02438EB8136305A4379,2022-07-01T00:00:00+00:00,2022-10-01T00:00:00+00:00,,\\n',\n",
       " '1239AD1F7019B041AEE181AFC82205C7,2022-11-17T00:00:00+00:00,2022-11-18T00:00:00+00:00,,\\n',\n",
       " 'E54645C3668DCC5DCE27BD58D459BE1B,2022-03-03T00:00:00+00:00,2022-03-04T00:00:00+00:00,,\\n',\n",
       " 'E54645C3668DCC5DCE27BD58D459BE1B,2022-09-29T00:00:00+00:00,2022-09-30T00:00:00+00:00,,\\n',\n",
       " 'E54645C3668DCC5DCE27BD58D459BE1B,2022-10-27T00:00:00+00:00,2022-10-28T00:00:00+00:00,,\\n',\n",
       " '6DA0BE0D940CAB9F922D351BAE47A2C1,2013-01-01T00:00:00+00:00,2014-01-01T00:00:00+00:00,,\\n',\n",
       " '0383D438B651FC3E846EA9B94F008023,2021-12-16T00:00:00+00:00,2021-12-17T00:00:00+00:00,,\\n',\n",
       " 'AC1ACC5CCF5C86849DB2EBAFF01D61B3,2022-10-12T00:00:00+00:00,2022-10-13T00:00:00+00:00,,\\n',\n",
       " 'EC7FD7E3F01AD7AB05490D5818CA3963,2022-11-15T00:00:00+00:00,2022-11-16T00:00:00+00:00,,\\n',\n",
       " '26BD4E912493D4721B0C4B63954FF730,2022-08-29T00:00:00+00:00,2022-08-30T00:00:00+00:00,,\\n',\n",
       " '26BD4E912493D4721B0C4B63954FF730,2022-10-19T00:00:00+00:00,2022-10-20T00:00:00+00:00,,\\n',\n",
       " '6ADBBFA10C0E5238BE6CC650D66BD291,2021-06-01T00:00:00+00:00,2021-06-02T00:00:00+00:00,,\\n',\n",
       " '6ADBBFA10C0E5238BE6CC650D66BD291,2022-05-13T00:00:00+00:00,2022-05-14T00:00:00+00:00,,\\n',\n",
       " '5E9ABF01C301BC58C6C2A2008043C7EB,2022-04-22T00:00:00+00:00,2022-04-23T00:00:00+00:00,,\\n',\n",
       " '5E9ABF01C301BC58C6C2A2008043C7EB,2022-05-31T00:00:00+00:00,2022-06-01T00:00:00+00:00,,\\n',\n",
       " '5E9ABF01C301BC58C6C2A2008043C7EB,2022-07-12T00:00:00+00:00,2022-07-13T00:00:00+00:00,,\\n',\n",
       " 'FE1EBD7F231F8E1F49C86CA9FDEB53C5,2022-09-29T00:00:00+00:00,2022-09-30T00:00:00+00:00,,\\n']"
      ]
     },
     "execution_count": 14,
     "metadata": {},
     "output_type": "execute_result"
    }
   ],
   "source": [
    "p.readlines()"
   ]
  },
  {
   "cell_type": "code",
   "execution_count": 15,
   "id": "cfca404f-a184-488f-85cf-00ae3440af5d",
   "metadata": {
    "execution": {
     "iopub.execute_input": "2024-01-12T20:30:10.934027Z",
     "iopub.status.busy": "2024-01-12T20:30:10.933595Z",
     "iopub.status.idle": "2024-01-12T20:30:26.711865Z",
     "shell.execute_reply": "2024-01-12T20:30:26.706170Z",
     "shell.execute_reply.started": "2024-01-12T20:30:10.934007Z"
    }
   },
   "outputs": [
    {
     "name": "stdout",
     "output_type": "stream",
     "text": [
      "Forcing update based on user request.\n",
      "Beginning file import at 2024-01-12 20:30:19 UTC.\n",
      "Importing data into rpa.temp.\n",
      "Completed file import at 2024-01-12 20:30:26 UTC.\n",
      "\n"
     ]
    },
    {
     "data": {
      "text/plain": [
       "True"
      ]
     },
     "execution_count": 15,
     "metadata": {},
     "output_type": "execute_result"
    }
   ],
   "source": [
    "wrds_update(table_name, schema,\n",
    "            force=True, obs=20,\n",
    "            keep=keep,\n",
    "            col_types = col_types,\n",
    "            where=where,\n",
    "            alt_table_name=\"temp\", tz=tz)"
   ]
  },
  {
   "cell_type": "code",
   "execution_count": 16,
   "id": "68b1fdb4-2b77-484f-a560-b9ec421a4590",
   "metadata": {
    "execution": {
     "iopub.execute_input": "2024-01-12T20:30:26.713386Z",
     "iopub.status.busy": "2024-01-12T20:30:26.713089Z",
     "iopub.status.idle": "2024-01-12T20:30:39.248659Z",
     "shell.execute_reply": "2024-01-12T20:30:39.243273Z",
     "shell.execute_reply.started": "2024-01-12T20:30:26.713363Z"
    }
   },
   "outputs": [
    {
     "name": "stdout",
     "output_type": "stream",
     "text": [
      "Forcing update based on user request.\n",
      "Beginning file download at 2024-01-12 20:30:30 UTC.\n",
      "Completed file download at 2024-01-12 20:30:39 UTC.\n",
      "CSV file: /Users/iangow/Downloads/rpa/temp.csv.gz\n",
      "\n"
     ]
    },
    {
     "data": {
      "text/plain": [
       "True"
      ]
     },
     "execution_count": 16,
     "metadata": {},
     "output_type": "execute_result"
    }
   ],
   "source": [
    "wrds_update_csv(table_name, schema,\n",
    "                force=True, obs=20,\n",
    "                data_dir=\"~/Downloads\",\n",
    "                keep=keep, where=where,\n",
    "                alt_table_name=\"temp\", tz=tz)"
   ]
  },
  {
   "cell_type": "code",
   "execution_count": 17,
   "id": "4a703c39-6482-4ac7-b241-21433c9b2700",
   "metadata": {
    "execution": {
     "iopub.execute_input": "2024-01-12T20:30:39.250099Z",
     "iopub.status.busy": "2024-01-12T20:30:39.249859Z",
     "iopub.status.idle": "2024-01-12T20:30:39.527077Z",
     "shell.execute_reply": "2024-01-12T20:30:39.526005Z",
     "shell.execute_reply.started": "2024-01-12T20:30:39.250077Z"
    }
   },
   "outputs": [],
   "source": [
    "!bbedit /Users/iangow/Downloads/rpa/temp.csv.gz"
   ]
  },
  {
   "cell_type": "code",
   "execution_count": 18,
   "id": "0acf0a65-e979-4e35-8f8d-0bc59d47a513",
   "metadata": {
    "execution": {
     "iopub.execute_input": "2024-01-12T20:30:39.531116Z",
     "iopub.status.busy": "2024-01-12T20:30:39.529756Z",
     "iopub.status.idle": "2024-01-12T20:30:55.061426Z",
     "shell.execute_reply": "2024-01-12T20:30:55.060898Z",
     "shell.execute_reply.started": "2024-01-12T20:30:39.531081Z"
    }
   },
   "outputs": [
    {
     "name": "stdout",
     "output_type": "stream",
     "text": [
      "Forcing update based on user request.\n",
      "Beginning file download at 2024-01-12 20:30:43 UTC.\n",
      "Saving data to temporary CSV.\n",
      "Converting temporary CSV to parquet.\n",
      "Parquet file: /Users/iangow/Downloads/rpa/temp.parquet\n",
      "Completed creation of parquet file at 2024-01-12 20:30:55.\n",
      "\n"
     ]
    },
    {
     "data": {
      "text/plain": [
       "True"
      ]
     },
     "execution_count": 18,
     "metadata": {},
     "output_type": "execute_result"
    }
   ],
   "source": [
    "wrds_update_pq(table_name, schema,\n",
    "               force=True, obs=20,\n",
    "               data_dir=\"~/Downloads\",\n",
    "               keep=keep,\n",
    "               col_types=col_types,\n",
    "               where=where,\n",
    "               alt_table_name=\"temp\", tz=tz)"
   ]
  },
  {
   "cell_type": "code",
   "execution_count": null,
   "id": "11e1e43f-111e-4517-9fe3-c2d7fb70883a",
   "metadata": {},
   "outputs": [],
   "source": []
  }
 ],
 "metadata": {
  "kernelspec": {
   "display_name": "Python 3 (ipykernel)",
   "language": "python",
   "name": "python3"
  },
  "language_info": {
   "codemirror_mode": {
    "name": "ipython",
    "version": 3
   },
   "file_extension": ".py",
   "mimetype": "text/x-python",
   "name": "python",
   "nbconvert_exporter": "python",
   "pygments_lexer": "ipython3",
   "version": "3.11.3"
  }
 },
 "nbformat": 4,
 "nbformat_minor": 5
}
