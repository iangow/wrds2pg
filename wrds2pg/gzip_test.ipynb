{
 "cells": [
  {
   "cell_type": "code",
   "execution_count": 1,
   "id": "6d04fbe2-11d2-4b1f-9714-3d8b79c6ec44",
   "metadata": {
    "execution": {
     "iopub.execute_input": "2024-01-13T19:19:24.118456Z",
     "iopub.status.busy": "2024-01-13T19:19:24.118264Z",
     "iopub.status.idle": "2024-01-13T19:19:24.625887Z",
     "shell.execute_reply": "2024-01-13T19:19:24.625564Z",
     "shell.execute_reply.started": "2024-01-13T19:19:24.118439Z"
    }
   },
   "outputs": [],
   "source": [
    "from wrds2pg import wrds_to_csv"
   ]
  },
  {
   "cell_type": "code",
   "execution_count": 5,
   "id": "c452888f-8bdb-4932-a84e-42dcb5b3c55d",
   "metadata": {
    "execution": {
     "iopub.execute_input": "2024-01-13T19:20:44.725759Z",
     "iopub.status.busy": "2024-01-13T19:20:44.725354Z",
     "iopub.status.idle": "2024-01-13T19:22:06.408385Z",
     "shell.execute_reply": "2024-01-13T19:22:06.407929Z",
     "shell.execute_reply.started": "2024-01-13T19:20:44.725728Z"
    }
   },
   "outputs": [],
   "source": [
    "wrds_to_csv(\"msf\", \"crsp\", fix_missing=True,\n",
    "            csv_file=\"/Users/iangow/Downloads/msf.csv.gz\", \n",
    "            wrds_id=\"iangow\", wrds_gz=True)"
   ]
  },
  {
   "cell_type": "code",
   "execution_count": 6,
   "id": "69138e82-bdaf-40d2-88af-671e2a458176",
   "metadata": {
    "execution": {
     "iopub.execute_input": "2024-01-13T19:22:08.846471Z",
     "iopub.status.busy": "2024-01-13T19:22:08.846236Z",
     "iopub.status.idle": "2024-01-13T19:22:10.268873Z",
     "shell.execute_reply": "2024-01-13T19:22:10.268239Z",
     "shell.execute_reply.started": "2024-01-13T19:22:08.846399Z"
    }
   },
   "outputs": [],
   "source": [
    "!bbedit /Users/iangow/Downloads/msf.csv.gz"
   ]
  },
  {
   "cell_type": "code",
   "execution_count": 7,
   "id": "d8d87719-9867-4d1f-be9c-5c94993efd1a",
   "metadata": {
    "execution": {
     "iopub.execute_input": "2024-01-13T19:22:19.193061Z",
     "iopub.status.busy": "2024-01-13T19:22:19.192877Z",
     "iopub.status.idle": "2024-01-13T19:23:45.096107Z",
     "shell.execute_reply": "2024-01-13T19:23:45.095829Z",
     "shell.execute_reply.started": "2024-01-13T19:22:19.193044Z"
    }
   },
   "outputs": [],
   "source": [
    "wrds_to_csv(\"msf\", \"crsp\", fix_missing=True,\n",
    "            csv_file=\"/Users/iangow/Downloads/msf.csv.gz\", \n",
    "            wrds_id=\"iangow\")"
   ]
  },
  {
   "cell_type": "code",
   "execution_count": 8,
   "id": "6bdb4898-6465-42c4-9d06-932c9418eab1",
   "metadata": {
    "execution": {
     "iopub.execute_input": "2024-01-13T19:31:54.353334Z",
     "iopub.status.busy": "2024-01-13T19:31:54.353075Z",
     "iopub.status.idle": "2024-01-13T19:31:54.517740Z",
     "shell.execute_reply": "2024-01-13T19:31:54.517231Z",
     "shell.execute_reply.started": "2024-01-13T19:31:54.353316Z"
    }
   },
   "outputs": [],
   "source": [
    "!mvim /Users/iangow/Downloads/msf.csv.gz"
   ]
  },
  {
   "cell_type": "code",
   "execution_count": null,
   "id": "bb80e88e-f9f4-44a1-9fa5-75a7c43f237f",
   "metadata": {},
   "outputs": [],
   "source": []
  }
 ],
 "metadata": {
  "kernelspec": {
   "display_name": "Python 3 (ipykernel)",
   "language": "python",
   "name": "python3"
  },
  "language_info": {
   "codemirror_mode": {
    "name": "ipython",
    "version": 3
   },
   "file_extension": ".py",
   "mimetype": "text/x-python",
   "name": "python",
   "nbconvert_exporter": "python",
   "pygments_lexer": "ipython3",
   "version": "3.11.3"
  }
 },
 "nbformat": 4,
 "nbformat_minor": 5
}
