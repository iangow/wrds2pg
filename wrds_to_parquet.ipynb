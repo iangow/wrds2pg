{
 "cells": [
  {
   "cell_type": "code",
   "execution_count": 1,
   "id": "0cdaa2a9-a585-4bd4-8c08-b64487650585",
   "metadata": {},
   "outputs": [],
   "source": [
    "from wrds2pg import wrds_update_pq, wrds_update_csv"
   ]
  },
  {
   "cell_type": "code",
   "execution_count": 2,
   "id": "0f4324f9-81dd-4200-b9f6-a0c69e167bbd",
   "metadata": {},
   "outputs": [
    {
     "name": "stdout",
     "output_type": "stream",
     "text": [
      "Forcing update based on user request.\n",
      "Beginning file download at 15:31:12.\n",
      "Saving data to temporary CSV.\n",
      "Converting temporary CSV to parquet.\n",
      "Parquet file: /Users/iangow/Downloads/comp/funda.parquet\n",
      "Completed creation of parquet file at 15:31:32.\n"
     ]
    },
    {
     "data": {
      "text/plain": [
       "True"
      ]
     },
     "execution_count": 2,
     "metadata": {},
     "output_type": "execute_result"
    }
   ],
   "source": [
    "wrds_update_pq(\"funda\", \"comp\", obs=10000, force=True, \n",
    "               data_dir=\"/Users/iangow/Downloads\")"
   ]
  },
  {
   "cell_type": "code",
   "execution_count": 3,
   "id": "4e81466e-cc61-4dec-b631-5b465e8d2dd3",
   "metadata": {},
   "outputs": [
    {
     "name": "stdout",
     "output_type": "stream",
     "text": [
      "Forcing update based on user request.\n",
      "Beginning file download at 15:31:36.\n",
      "Completed file download at 15:31:49.\n"
     ]
    },
    {
     "data": {
      "text/plain": [
       "True"
      ]
     },
     "execution_count": 3,
     "metadata": {},
     "output_type": "execute_result"
    }
   ],
   "source": [
    "wrds_update_csv(\"funda\", \"comp\", obs=10000, force=True, \n",
    "                data_dir=\"/Users/iangow/Downloads\")"
   ]
  },
  {
   "cell_type": "code",
   "execution_count": 4,
   "id": "dc9adde7-0b8b-453b-9a34-5a48fb5a5d6b",
   "metadata": {},
   "outputs": [
    {
     "name": "stdout",
     "output_type": "stream",
     "text": [
      "Forcing update based on user request.\n",
      "Beginning file download at 15:31:52.\n",
      "Saving data to temporary CSV.\n",
      "Converting temporary CSV to parquet.\n",
      "Parquet file: /Users/iangow/Library/CloudStorage/Dropbox/pq_data/comp/company.parquet\n",
      "Completed creation of parquet file at 15:32:06.\n"
     ]
    },
    {
     "data": {
      "text/plain": [
       "True"
      ]
     },
     "execution_count": 4,
     "metadata": {},
     "output_type": "execute_result"
    }
   ],
   "source": [
    "wrds_update_pq(\"company\", \"comp\", force=True)"
   ]
  },
  {
   "cell_type": "code",
   "execution_count": 5,
   "id": "5003f7fe-c76c-4b70-80c0-91a4b9865d96",
   "metadata": {},
   "outputs": [
    {
     "name": "stdout",
     "output_type": "stream",
     "text": [
      "Forcing update based on user request.\n",
      "Beginning file download at 15:32:10.\n",
      "Completed file download at 15:32:20.\n"
     ]
    },
    {
     "data": {
      "text/plain": [
       "True"
      ]
     },
     "execution_count": 5,
     "metadata": {},
     "output_type": "execute_result"
    }
   ],
   "source": [
    "wrds_update_csv(\"company\", \"comp\", force=True,\n",
    "                data_dir=\"/Users/iangow/Downloads\")"
   ]
  }
 ],
 "metadata": {
  "kernelspec": {
   "display_name": "Python 3 (ipykernel)",
   "language": "python",
   "name": "python3"
  },
  "language_info": {
   "codemirror_mode": {
    "name": "ipython",
    "version": 3
   },
   "file_extension": ".py",
   "mimetype": "text/x-python",
   "name": "python",
   "nbconvert_exporter": "python",
   "pygments_lexer": "ipython3",
   "version": "3.11.3"
  }
 },
 "nbformat": 4,
 "nbformat_minor": 5
}
